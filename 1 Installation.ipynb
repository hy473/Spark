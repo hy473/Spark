{
 "cells": [
  {
   "cell_type": "markdown",
   "metadata": {},
   "source": [
    "# 1. Installation"
   ]
  },
  {
   "cell_type": "markdown",
   "metadata": {},
   "source": [
    "## 1.1. MacOS"
   ]
  },
  {
   "cell_type": "markdown",
   "metadata": {},
   "source": [
    "**Step 1: Get Homebrew.**  \n",
    "\n",
    "Homebrew is a package manager for macOS.\n",
    "In order to install Homebrew, open your terminal and type:\n",
    "\n",
    "`/usr/bin/ruby -e \"$(curl -fsSL https://raw.githubusercontent.com/Homebrew/install/master/install)\"`\n",
    "\n",
    "In order to install Java, Scala, and Spark through the command line we will probably need to install xcode-select. \n",
    "Go to terminal and type:\n",
    "\n",
    "`xcode-select --install`\n",
    "\n",
    "* Install Java by Homebrew: `brew cask install java`\n",
    "* Install Scala by Homebrew: `brew install scala`\n",
    "* Install Apache Spark: `brew install apache-spark`\n",
    "  * Run the Spark Shell: `spark-shell`\n",
    "\n",
    "**Step 2: Get Python 3.**\n",
    "\n",
    "* Install Python 3: `brew install python3`\n",
    "* Install Jupter: `pip3 install jupyter`\n",
    "  * Run the notebook ~ `jupyter notebook`\n",
    "* Install PySpark: `pip3 install pyspark`"
   ]
  },
  {
   "cell_type": "code",
   "execution_count": null,
   "metadata": {},
   "outputs": [],
   "source": []
  }
 ],
 "metadata": {
  "kernelspec": {
   "display_name": "Python 3",
   "language": "python",
   "name": "python3"
  },
  "language_info": {
   "codemirror_mode": {
    "name": "ipython",
    "version": 3
   },
   "file_extension": ".py",
   "mimetype": "text/x-python",
   "name": "python",
   "nbconvert_exporter": "python",
   "pygments_lexer": "ipython3",
   "version": "3.6.3"
  }
 },
 "nbformat": 4,
 "nbformat_minor": 2
}
